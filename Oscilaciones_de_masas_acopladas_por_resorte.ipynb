{
  "nbformat": 4,
  "nbformat_minor": 0,
  "metadata": {
    "colab": {
      "name": "Oscilaciones de masas acopladas por resorte.ipynb",
      "provenance": [],
      "collapsed_sections": []
    },
    "kernelspec": {
      "name": "python3",
      "display_name": "Python 3"
    }
  },
  "cells": [
    {
      "cell_type": "markdown",
      "metadata": {
        "id": "oU6QhuUnc9r7",
        "colab_type": "text"
      },
      "source": [
        "#Oscilaciones de dos masas acopladas por resortes\n",
        "##Josué Juárez Morales\n",
        "---------\n",
        "Sean $m_1, m_2$ las masas de dos partículas conectadas por tres resortes con constantes elásticas $k_{1}, k_{2}$ y $k_3$.  El hamiltoniano del sistema esta dado por\n",
        "\n",
        "\\begin{equation}\n",
        "H = \\frac{p_{1}^{2}}{2m_1}  + \\frac{p_{2}^{2}}{2m_2} + \\frac{1}{2} k_1 x_{1}^{2} + \\frac{1}{2} k_{2} (x_{2} - x_{1})^{2} + \\frac{1}{2} k_3 x_{2}^{2},\n",
        "\\end{equation}\n",
        "\n",
        "de las ecuaciones de Hamilton\n",
        "\n",
        "\\begin{equation}\n",
        "\\dot{x_i} = \\frac{\\partial H}{\\partial p_i}\n",
        "\\end{equation}\n",
        "\n",
        "\\begin{equation}\n",
        "\\dot{p_i} = - \\frac{\\partial H}{\\partial q_i}\n",
        "\\end{equation}\n",
        "\n",
        "obtenemos las 4 ecuaciones de moviento de este sistema\n",
        "\n",
        "\\begin{equation}\n",
        "\\dot{x_1} = \\frac{p_1}{m_1}\n",
        "\\end{equation}\n",
        "\\begin{equation}\n",
        "\\dot{x_2} = \\frac{p_2}{m_2}\n",
        "\\end{equation}\n",
        "\n",
        "\\begin{equation}\n",
        "\\dot{p_1} = - k_{1} x_{1} + k_{2} (x_{2} - x_{1})\n",
        "\\end{equation}\n",
        "\\begin{equation}\n",
        "\\dot{p_2} = - k_{3} x_{2} - k_{2} (x_{2} - x_{1})\n",
        "\\end{equation}"
      ]
    },
    {
      "cell_type": "code",
      "metadata": {
        "id": "DdxTSsoRc4fV",
        "colab_type": "code",
        "colab": {}
      },
      "source": [
        "import numpy as np\n",
        "import matplotlib.pyplot as plt\n",
        "import time"
      ],
      "execution_count": 0,
      "outputs": []
    },
    {
      "cell_type": "code",
      "metadata": {
        "id": "P-PN0bj0wCkP",
        "colab_type": "code",
        "colab": {}
      },
      "source": [
        "def Q_Dot(Q):\n",
        "  #regresa la derivada del vector Q\n",
        "  x1, x2, p1, p2 = Q[0], Q[1], Q[2], Q[3]\n",
        "  x1_dot = p1/m1\n",
        "  x2_dot = p2/m2\n",
        "  p1_dot = -k1*x1 + k2*(x2-x1)\n",
        "  p2_dot = -k3*x2 - k2*(x2-x1)\n",
        "\n",
        "  return np.array([x1_dot, x2_dot,  p1_dot, p2_dot])"
      ],
      "execution_count": 0,
      "outputs": []
    },
    {
      "cell_type": "code",
      "metadata": {
        "id": "4f01_A3QwOM-",
        "colab_type": "code",
        "colab": {}
      },
      "source": [
        "def paso_euler(f, t_n, y_n, dt):\n",
        "  #toma un paso usando el metodo de Euler, y_n-valor actual del vector at tiempo t=t_n, f - funcion de calcula la derivada de y(t)\n",
        "  y_dot = f(t_n,y_n)\n",
        "  y_n_mas_1 = y_n + dt*y_dot\n",
        "  return y_n_mas_1"
      ],
      "execution_count": 0,
      "outputs": []
    },
    {
      "cell_type": "code",
      "metadata": {
        "id": "fVQ4trcJwQ8-",
        "colab_type": "code",
        "colab": {}
      },
      "source": [
        "def integrador_simple(f, t, y_0, dt):\n",
        "  #Calcula la trayectoria de valores de y usando el metodo de Euler con pasos constantes\n",
        "  # f - función que calcula la derivada y(t), f(t,y)\n",
        "  # y_0 - valor inicial de y y_0 = [y0_0, y1_0,...]\n",
        "  #t - lista con el intervalo [t_0, t_f]\n",
        "  #dt - distancia entre pasos de tiempo\n",
        "  tiempo = time.time()\n",
        "\n",
        "  t_0, t_f = t\n",
        "  n = int((t_f - t_0)/dt)\n",
        "  \n",
        "  d = len(y_0)\n",
        "  \n",
        "  y_tray = np.zeros(((n+1), d))\n",
        "  \n",
        "  t = np.linspace(t_0, t_f, n+1)\n",
        "  \n",
        "  y_tray[0, :] = y_0\n",
        "\n",
        "  tiempo = time.time() - tiempo\n",
        "  \n",
        "  for i in range(n):\n",
        "    y_tray[i+1, :] = paso_euler(f, t[i], y_tray[i, :], dt)\n",
        "\n",
        "  print('Tiempo de computo = ' + ('%.5f' %tiempo) + 's')\n",
        "\n",
        "  return t, y_tray"
      ],
      "execution_count": 0,
      "outputs": []
    },
    {
      "cell_type": "code",
      "metadata": {
        "id": "mlsxk9MPx54l",
        "colab_type": "code",
        "colab": {}
      },
      "source": [
        "def Q_Dot_t(t,y):\n",
        "  return Q_Dot(y)"
      ],
      "execution_count": 0,
      "outputs": []
    },
    {
      "cell_type": "markdown",
      "metadata": {
        "id": "XTjJnOwmxl5D",
        "colab_type": "text"
      },
      "source": [
        "Probamos para los siguientes parámetros. Además de la teoria sabemos que en este sistema hay dos modos normales de movimiento: el modo antisimétrico y el simétrico.\n",
        "\n",
        "El movimiento de las masas será en modo simétrico si se dan las condiciones iniciales $x_{1}(0) = - x_{2}(0)$ y $p_{1}(0) = - p_{2}(0)$-"
      ]
    },
    {
      "cell_type": "code",
      "metadata": {
        "id": "3VcfJwgIv7i0",
        "colab_type": "code",
        "colab": {}
      },
      "source": [
        "k1= 1.0\n",
        "k2= 0.5\n",
        "k3 = 1.5\n",
        "m1 = 1.0\n",
        "m2 = 1.5"
      ],
      "execution_count": 0,
      "outputs": []
    },
    {
      "cell_type": "code",
      "metadata": {
        "id": "ImjU8dUdwV9I",
        "colab_type": "code",
        "outputId": "b98cccc7-df4f-4dca-ee82-55a87ddedf9d",
        "colab": {
          "base_uri": "https://localhost:8080/",
          "height": 301
        }
      },
      "source": [
        "t, Q_Traj = integrador_simple(Q_Dot_t,[0,15],[-0.5, 0.5, 2, -2],.001 )\n",
        "\n",
        "plt.plot(t,Q_Traj[:,0])\n",
        "plt.plot(t,Q_Traj[:,1])"
      ],
      "execution_count": 0,
      "outputs": [
        {
          "output_type": "stream",
          "text": [
            "Tiempo de computo = 0.00141s\n"
          ],
          "name": "stdout"
        },
        {
          "output_type": "execute_result",
          "data": {
            "text/plain": [
              "[<matplotlib.lines.Line2D at 0x7fb7c033e208>]"
            ]
          },
          "metadata": {
            "tags": []
          },
          "execution_count": 118
        },
        {
          "output_type": "display_data",
          "data": {
            "image/png": "[encoded data removed]",
            "text/plain": [
              "<Figure size 432x288 with 1 Axes>"
            ]
          },
          "metadata": {
            "tags": []
          }
        }
      ]
    },
    {
      "cell_type": "markdown",
      "metadata": {
        "id": "io3o7yWx6htI",
        "colab_type": "text"
      },
      "source": [
        "Para el caso del movimiento en modo simétrico, las condiciones iniciales deben ser $x_{1}(0) = x_{2}(0)$ y $p_{1}(0) = p_{2}(0)$."
      ]
    },
    {
      "cell_type": "code",
      "metadata": {
        "id": "mlJbOU3fxzwX",
        "colab_type": "code",
        "colab": {}
      },
      "source": [
        "k1= 1.0\n",
        "k2= 1.5\n",
        "k3 = 0.5\n",
        "m1 = 0.5\n",
        "m2 = 1.5"
      ],
      "execution_count": 0,
      "outputs": []
    },
    {
      "cell_type": "code",
      "metadata": {
        "id": "FyEAOpTT7JE3",
        "colab_type": "code",
        "outputId": "152f8ab1-8a58-4d6d-d4a2-6281c7bf9dda",
        "colab": {
          "base_uri": "https://localhost:8080/",
          "height": 301
        }
      },
      "source": [
        "t, Q_Traj = integrador_simple(Q_Dot_t,[0,15],[1, 1, 3, 3],.001 )\n",
        "\n",
        "plt.plot(t,Q_Traj[:,0])\n",
        "plt.plot(t,Q_Traj[:,1])"
      ],
      "execution_count": 0,
      "outputs": [
        {
          "output_type": "stream",
          "text": [
            "Tiempo de computo = 0.00070s\n"
          ],
          "name": "stdout"
        },
        {
          "output_type": "execute_result",
          "data": {
            "text/plain": [
              "[<matplotlib.lines.Line2D at 0x7fb7c02dab70>]"
            ]
          },
          "metadata": {
            "tags": []
          },
          "execution_count": 120
        },
        {
          "output_type": "display_data",
          "data": {
            "image/png": "[encoded data removed]",
            "text/plain": [
              "<Figure size 432x288 with 1 Axes>"
            ]
          },
          "metadata": {
            "tags": []
          }
        }
      ]
    },
    {
      "cell_type": "markdown",
      "metadata": {
        "id": "xrAK3d5sCZ8z",
        "colab_type": "text"
      },
      "source": [
        "Uno de los teoremas de conservación nos dice que si el Lagrangiano del sistema no depende explicitamente del tiempo entonces el Hamiltoniano se conserva\n",
        "\n",
        "\\begin{equation}\n",
        "H = E = cte.\n",
        "\\end{equation}\n",
        "\n",
        "Podemos calcular los valores de $E$ en los diferentes tiempos con los valores ya calculados."
      ]
    },
    {
      "cell_type": "code",
      "metadata": {
        "id": "ICkzsaOFB3A2",
        "colab_type": "code",
        "outputId": "7c01a8e4-8029-46cf-c680-6e6a415d9926",
        "colab": {
          "base_uri": "https://localhost:8080/",
          "height": 283
        }
      },
      "source": [
        "E = np.zeros((Q_Traj.shape[0], 1))\n",
        "E[:,0] = (1/(2*m1))*Q_Traj[:,2]**2 + (1/(2*m2))*Q_Traj[:,3]**2 + (k1/2)*Q_Traj[:,0]**2 + (k2/2)*(Q_Traj[:,1] - Q_Traj[:,0])**2 + (k3/2)*Q_Traj[:,1]**2\n",
        "plt.plot(t,E)"
      ],
      "execution_count": 0,
      "outputs": [
        {
          "output_type": "execute_result",
          "data": {
            "text/plain": [
              "[<matplotlib.lines.Line2D at 0x7fb7c0228b38>]"
            ]
          },
          "metadata": {
            "tags": []
          },
          "execution_count": 121
        },
        {
          "output_type": "display_data",
          "data": {
            "image/png": "[encoded data removed]",
            "text/plain": [
              "<Figure size 432x288 with 1 Axes>"
            ]
          },
          "metadata": {
            "tags": []
          }
        }
      ]
    },
    {
      "cell_type": "markdown",
      "metadata": {
        "id": "WKXRSsSrIfaI",
        "colab_type": "text"
      },
      "source": [
        "Observamos que hubo un aumento lineal de la energia en todo el intervalo de tiempo. Este aumento de energia se debe a los errores númericos que se generarón durante la solucion de las ecuaciones. Observamos que para las mismas condiciones pero haciendo mas pequeño el intervalo de tiempo la solucion de las ecuaciones son mas exactas y el aumento de energia debido al error númerico es menor."
      ]
    },
    {
      "cell_type": "code",
      "metadata": {
        "id": "oMXXWLPRFNx1",
        "colab_type": "code",
        "outputId": "8864fedd-34a4-4bd0-aa02-a87a2151e688",
        "colab": {
          "base_uri": "https://localhost:8080/",
          "height": 304
        }
      },
      "source": [
        "k1= 1.0\n",
        "k2= 1.5\n",
        "k3 = 0.5\n",
        "m1 = 0.5\n",
        "m2 = 1.5\n",
        "t, Q_Traj = integrador_simple(Q_Dot_t,[0,15],[1, 1, 3, 3],.00001 )\n",
        "E = np.zeros((Q_Traj.shape[0], 1))\n",
        "E[:,0] = (1/(2*m1))*Q_Traj[:,2]**2 + (1/(2*m2))*Q_Traj[:,3]**2 + (k1/2)*Q_Traj[:,0]**2 + (k2/2)*(Q_Traj[:,1] - Q_Traj[:,0])**2 + (k3/2)*Q_Traj[:,1]**2\n",
        "plt.plot(t,E)"
      ],
      "execution_count": 0,
      "outputs": [
        {
          "output_type": "stream",
          "text": [
            "Tiempo de computo = 0.02325s\n"
          ],
          "name": "stdout"
        },
        {
          "output_type": "execute_result",
          "data": {
            "text/plain": [
              "[<matplotlib.lines.Line2D at 0x7fb7c02109e8>]"
            ]
          },
          "metadata": {
            "tags": []
          },
          "execution_count": 122
        },
        {
          "output_type": "display_data",
          "data": {
            "image/png": "[encoded data removed]",
            "text/plain": [
              "<Figure size 432x288 with 1 Axes>"
            ]
          },
          "metadata": {
            "tags": []
          }
        }
      ]
    },
    {
      "cell_type": "markdown",
      "metadata": {
        "id": "jPu-Sfa8JxAe",
        "colab_type": "text"
      },
      "source": [
        "vemos en la gráfica un aumento de $\\Delta E = 0.005$"
      ]
    },
    {
      "cell_type": "markdown",
      "metadata": {
        "id": "cBYCr0zsG18y",
        "colab_type": "text"
      },
      "source": [
        "#sistema de n particulas acopladas con resortes\n",
        "-------------\n",
        "El hamiltoniano de un sistema de n particulas de masa $m_i = m$ acoplados por resortes de constante elastica $k_i = k$ esta dado por\n",
        "\n",
        "\\begin{equation}\n",
        "H = \\sum_{i = 1}^{n} \\frac{p_{i}^{2}}{2m_{i}} + \\sum_{i = 0}^{n} \\frac{k}{2} (x_{i+1} - x_{i})^{2},\n",
        "\\end{equation}\n",
        "\n",
        "y las ecuaciones de movimiento son\n",
        "\n",
        "\\begin{equation}\n",
        "\\dot{x_{i}} = \\frac{\\partial H}{\\partial p_i} = \\frac{p_i}{m},\n",
        "\\end{equation}\n",
        "\n",
        "\\begin{equation}\n",
        "\\dot{p_{i}} = - \\frac{\\partial H}{\\partial x_i} = k(x_{i+1} - 2x_{i} + x_{i-1}).\n",
        "\\end{equation}"
      ]
    },
    {
      "cell_type": "code",
      "metadata": {
        "id": "PJHj5JRnU8Fw",
        "colab_type": "code",
        "colab": {}
      },
      "source": [
        "k = 1\n",
        "m = 1\n",
        "N = 4"
      ],
      "execution_count": 0,
      "outputs": []
    },
    {
      "cell_type": "code",
      "metadata": {
        "id": "-IZ1DIJFJ5fq",
        "colab_type": "code",
        "colab": {}
      },
      "source": [
        "def Q_DotN(Q, N):\n",
        "  #regresa la derivada del vector Q\n",
        "  Q_dot = np.zeros((1, 2*N))\n",
        "\n",
        "  for i in range(0, N):\n",
        "    Q_dot[0,i] = Q[i]/m #xi_dot\n",
        "    if i == 0:\n",
        "      Q_dot[0,i+N] = k*(Q[i+1] - Q[i]) #pi_dot\n",
        "    else:\n",
        "      Q_dot[0,i+N] = k*(Q[i+1] - 2*Q[i] + Q[i-1]) #pi_dot\n",
        "\n",
        "  return Q_dot"
      ],
      "execution_count": 0,
      "outputs": []
    },
    {
      "cell_type": "code",
      "metadata": {
        "id": "vufNBPW0VYG0",
        "colab_type": "code",
        "colab": {}
      },
      "source": [
        "def Q_Dot_t_N(t,y):\n",
        "  return Q_DotN(y, N)"
      ],
      "execution_count": 0,
      "outputs": []
    },
    {
      "cell_type": "code",
      "metadata": {
        "id": "tH4fSwlxVnv0",
        "colab_type": "code",
        "outputId": "50d2a413-cc40-49c9-9b49-22db3d306627",
        "colab": {
          "base_uri": "https://localhost:8080/",
          "height": 359
        }
      },
      "source": [
        "t, Q_Traj = integrador_simple(Q_Dot_t_N,[0,15],[-0.5, 0.5, 2, -2],.001 )\n",
        "\n",
        "plt.plot(t,Q_Traj[:,0])"
      ],
      "execution_count": 0,
      "outputs": [
        {
          "output_type": "error",
          "ename": "IndexError",
          "evalue": "ignored",
          "traceback": [
            "\u001b[0;31m---------------------------------------------------------------------------\u001b[0m",
            "\u001b[0;31mIndexError\u001b[0m                                Traceback (most recent call last)",
            "\u001b[0;32m<ipython-input-126-ba96a5d3a654>\u001b[0m in \u001b[0;36m<module>\u001b[0;34m()\u001b[0m\n\u001b[0;32m----> 1\u001b[0;31m \u001b[0mt\u001b[0m\u001b[0;34m,\u001b[0m \u001b[0mQ_Traj\u001b[0m \u001b[0;34m=\u001b[0m \u001b[0mintegrador_simple\u001b[0m\u001b[0;34m(\u001b[0m\u001b[0mQ_Dot_t_N\u001b[0m\u001b[0;34m,\u001b[0m\u001b[0;34m[\u001b[0m\u001b[0;36m0\u001b[0m\u001b[0;34m,\u001b[0m\u001b[0;36m15\u001b[0m\u001b[0;34m]\u001b[0m\u001b[0;34m,\u001b[0m\u001b[0;34m[\u001b[0m\u001b[0;34m-\u001b[0m\u001b[0;36m0.5\u001b[0m\u001b[0;34m,\u001b[0m \u001b[0;36m0.5\u001b[0m\u001b[0;34m,\u001b[0m \u001b[0;36m2\u001b[0m\u001b[0;34m,\u001b[0m \u001b[0;34m-\u001b[0m\u001b[0;36m2\u001b[0m\u001b[0;34m]\u001b[0m\u001b[0;34m,\u001b[0m\u001b[0;36m.001\u001b[0m \u001b[0;34m)\u001b[0m\u001b[0;34m\u001b[0m\u001b[0;34m\u001b[0m\u001b[0m\n\u001b[0m\u001b[1;32m      2\u001b[0m \u001b[0;34m\u001b[0m\u001b[0m\n\u001b[1;32m      3\u001b[0m \u001b[0mplt\u001b[0m\u001b[0;34m.\u001b[0m\u001b[0mplot\u001b[0m\u001b[0;34m(\u001b[0m\u001b[0mt\u001b[0m\u001b[0;34m,\u001b[0m\u001b[0mQ_Traj\u001b[0m\u001b[0;34m[\u001b[0m\u001b[0;34m:\u001b[0m\u001b[0;34m,\u001b[0m\u001b[0;36m0\u001b[0m\u001b[0;34m]\u001b[0m\u001b[0;34m)\u001b[0m\u001b[0;34m\u001b[0m\u001b[0;34m\u001b[0m\u001b[0m\n",
            "\u001b[0;32m<ipython-input-115-89a2c302809d>\u001b[0m in \u001b[0;36mintegrador_simple\u001b[0;34m(f, t, y_0, dt)\u001b[0m\n\u001b[1;32m     21\u001b[0m \u001b[0;34m\u001b[0m\u001b[0m\n\u001b[1;32m     22\u001b[0m   \u001b[0;32mfor\u001b[0m \u001b[0mi\u001b[0m \u001b[0;32min\u001b[0m \u001b[0mrange\u001b[0m\u001b[0;34m(\u001b[0m\u001b[0mn\u001b[0m\u001b[0;34m)\u001b[0m\u001b[0;34m:\u001b[0m\u001b[0;34m\u001b[0m\u001b[0;34m\u001b[0m\u001b[0m\n\u001b[0;32m---> 23\u001b[0;31m     \u001b[0my_tray\u001b[0m\u001b[0;34m[\u001b[0m\u001b[0mi\u001b[0m\u001b[0;34m+\u001b[0m\u001b[0;36m1\u001b[0m\u001b[0;34m,\u001b[0m \u001b[0;34m:\u001b[0m\u001b[0;34m]\u001b[0m \u001b[0;34m=\u001b[0m \u001b[0mpaso_euler\u001b[0m\u001b[0;34m(\u001b[0m\u001b[0mf\u001b[0m\u001b[0;34m,\u001b[0m \u001b[0mt\u001b[0m\u001b[0;34m[\u001b[0m\u001b[0mi\u001b[0m\u001b[0;34m]\u001b[0m\u001b[0;34m,\u001b[0m \u001b[0my_tray\u001b[0m\u001b[0;34m[\u001b[0m\u001b[0mi\u001b[0m\u001b[0;34m,\u001b[0m \u001b[0;34m:\u001b[0m\u001b[0;34m]\u001b[0m\u001b[0;34m,\u001b[0m \u001b[0mdt\u001b[0m\u001b[0;34m)\u001b[0m\u001b[0;34m\u001b[0m\u001b[0;34m\u001b[0m\u001b[0m\n\u001b[0m\u001b[1;32m     24\u001b[0m \u001b[0;34m\u001b[0m\u001b[0m\n\u001b[1;32m     25\u001b[0m   \u001b[0mprint\u001b[0m\u001b[0;34m(\u001b[0m\u001b[0;34m'Tiempo de computo = '\u001b[0m \u001b[0;34m+\u001b[0m \u001b[0;34m(\u001b[0m\u001b[0;34m'%.5f'\u001b[0m \u001b[0;34m%\u001b[0m\u001b[0mtiempo\u001b[0m\u001b[0;34m)\u001b[0m \u001b[0;34m+\u001b[0m \u001b[0;34m's'\u001b[0m\u001b[0;34m)\u001b[0m\u001b[0;34m\u001b[0m\u001b[0;34m\u001b[0m\u001b[0m\n",
            "\u001b[0;32m<ipython-input-114-3a96e313519d>\u001b[0m in \u001b[0;36mpaso_euler\u001b[0;34m(f, t_n, y_n, dt)\u001b[0m\n\u001b[1;32m      1\u001b[0m \u001b[0;32mdef\u001b[0m \u001b[0mpaso_euler\u001b[0m\u001b[0;34m(\u001b[0m\u001b[0mf\u001b[0m\u001b[0;34m,\u001b[0m \u001b[0mt_n\u001b[0m\u001b[0;34m,\u001b[0m \u001b[0my_n\u001b[0m\u001b[0;34m,\u001b[0m \u001b[0mdt\u001b[0m\u001b[0;34m)\u001b[0m\u001b[0;34m:\u001b[0m\u001b[0;34m\u001b[0m\u001b[0;34m\u001b[0m\u001b[0m\n\u001b[1;32m      2\u001b[0m   \u001b[0;31m#toma un paso usando el metodo de Euler, y_n-valor actual del vector at tiempo t=t_n, f - funcion de calcula la derivada de y(t)\u001b[0m\u001b[0;34m\u001b[0m\u001b[0;34m\u001b[0m\u001b[0;34m\u001b[0m\u001b[0m\n\u001b[0;32m----> 3\u001b[0;31m   \u001b[0my_dot\u001b[0m \u001b[0;34m=\u001b[0m \u001b[0mf\u001b[0m\u001b[0;34m(\u001b[0m\u001b[0mt_n\u001b[0m\u001b[0;34m,\u001b[0m\u001b[0my_n\u001b[0m\u001b[0;34m)\u001b[0m\u001b[0;34m\u001b[0m\u001b[0;34m\u001b[0m\u001b[0m\n\u001b[0m\u001b[1;32m      4\u001b[0m   \u001b[0my_n_mas_1\u001b[0m \u001b[0;34m=\u001b[0m \u001b[0my_n\u001b[0m \u001b[0;34m+\u001b[0m \u001b[0mdt\u001b[0m\u001b[0;34m*\u001b[0m\u001b[0my_dot\u001b[0m\u001b[0;34m\u001b[0m\u001b[0;34m\u001b[0m\u001b[0m\n\u001b[1;32m      5\u001b[0m   \u001b[0;32mreturn\u001b[0m \u001b[0my_n_mas_1\u001b[0m\u001b[0;34m\u001b[0m\u001b[0;34m\u001b[0m\u001b[0m\n",
            "\u001b[0;32m<ipython-input-125-08cdf8a3c896>\u001b[0m in \u001b[0;36mQ_Dot_t_N\u001b[0;34m(t, y)\u001b[0m\n\u001b[1;32m      1\u001b[0m \u001b[0;32mdef\u001b[0m \u001b[0mQ_Dot_t_N\u001b[0m\u001b[0;34m(\u001b[0m\u001b[0mt\u001b[0m\u001b[0;34m,\u001b[0m\u001b[0my\u001b[0m\u001b[0;34m)\u001b[0m\u001b[0;34m:\u001b[0m\u001b[0;34m\u001b[0m\u001b[0;34m\u001b[0m\u001b[0m\n\u001b[0;32m----> 2\u001b[0;31m   \u001b[0;32mreturn\u001b[0m \u001b[0mQ_DotN\u001b[0m\u001b[0;34m(\u001b[0m\u001b[0my\u001b[0m\u001b[0;34m,\u001b[0m \u001b[0mN\u001b[0m\u001b[0;34m)\u001b[0m\u001b[0;34m\u001b[0m\u001b[0;34m\u001b[0m\u001b[0m\n\u001b[0m",
            "\u001b[0;32m<ipython-input-124-7735d2b4ad2e>\u001b[0m in \u001b[0;36mQ_DotN\u001b[0;34m(Q, N)\u001b[0m\n\u001b[1;32m      8\u001b[0m       \u001b[0mQ_dot\u001b[0m\u001b[0;34m[\u001b[0m\u001b[0;36m0\u001b[0m\u001b[0;34m,\u001b[0m\u001b[0mi\u001b[0m\u001b[0;34m+\u001b[0m\u001b[0mN\u001b[0m\u001b[0;34m]\u001b[0m \u001b[0;34m=\u001b[0m \u001b[0mk\u001b[0m\u001b[0;34m*\u001b[0m\u001b[0;34m(\u001b[0m\u001b[0mQ\u001b[0m\u001b[0;34m[\u001b[0m\u001b[0mi\u001b[0m\u001b[0;34m+\u001b[0m\u001b[0;36m1\u001b[0m\u001b[0;34m]\u001b[0m \u001b[0;34m-\u001b[0m \u001b[0mQ\u001b[0m\u001b[0;34m[\u001b[0m\u001b[0mi\u001b[0m\u001b[0;34m]\u001b[0m\u001b[0;34m)\u001b[0m \u001b[0;31m#pi_dot\u001b[0m\u001b[0;34m\u001b[0m\u001b[0;34m\u001b[0m\u001b[0m\n\u001b[1;32m      9\u001b[0m     \u001b[0;32melse\u001b[0m\u001b[0;34m:\u001b[0m\u001b[0;34m\u001b[0m\u001b[0;34m\u001b[0m\u001b[0m\n\u001b[0;32m---> 10\u001b[0;31m       \u001b[0mQ_dot\u001b[0m\u001b[0;34m[\u001b[0m\u001b[0;36m0\u001b[0m\u001b[0;34m,\u001b[0m\u001b[0mi\u001b[0m\u001b[0;34m+\u001b[0m\u001b[0mN\u001b[0m\u001b[0;34m]\u001b[0m \u001b[0;34m=\u001b[0m \u001b[0mk\u001b[0m\u001b[0;34m*\u001b[0m\u001b[0;34m(\u001b[0m\u001b[0mQ\u001b[0m\u001b[0;34m[\u001b[0m\u001b[0mi\u001b[0m\u001b[0;34m+\u001b[0m\u001b[0;36m1\u001b[0m\u001b[0;34m]\u001b[0m \u001b[0;34m-\u001b[0m \u001b[0;36m2\u001b[0m\u001b[0;34m*\u001b[0m\u001b[0mQ\u001b[0m\u001b[0;34m[\u001b[0m\u001b[0mi\u001b[0m\u001b[0;34m]\u001b[0m \u001b[0;34m+\u001b[0m \u001b[0mQ\u001b[0m\u001b[0;34m[\u001b[0m\u001b[0mi\u001b[0m\u001b[0;34m-\u001b[0m\u001b[0;36m1\u001b[0m\u001b[0;34m]\u001b[0m\u001b[0;34m)\u001b[0m \u001b[0;31m#pi_dot\u001b[0m\u001b[0;34m\u001b[0m\u001b[0;34m\u001b[0m\u001b[0m\n\u001b[0m\u001b[1;32m     11\u001b[0m   \u001b[0;31m#al vector Q le añadimos como ultimo elemento un 0 para que el elemento Q[-1] no contribuya nada\u001b[0m\u001b[0;34m\u001b[0m\u001b[0;34m\u001b[0m\u001b[0;34m\u001b[0m\u001b[0m\n\u001b[1;32m     12\u001b[0m \u001b[0;34m\u001b[0m\u001b[0m\n",
            "\u001b[0;31mIndexError\u001b[0m: index 4 is out of bounds for axis 0 with size 4"
          ]
        }
      ]
    },
    {
      "cell_type": "markdown",
      "metadata": {
        "id": "tXe1fsnxdBiJ",
        "colab_type": "text"
      },
      "source": [
        "Pendiente arreglar el calculo de las componentes de Q_Dot. Con eso solucionado, las funciones ya definidas antes funcionan correctamente."
      ]
    },
    {
      "cell_type": "code",
      "metadata": {
        "id": "5-axdFRGdWjs",
        "colab_type": "code",
        "colab": {}
      },
      "source": [
        ""
      ],
      "execution_count": 0,
      "outputs": []
    }
  ]
}