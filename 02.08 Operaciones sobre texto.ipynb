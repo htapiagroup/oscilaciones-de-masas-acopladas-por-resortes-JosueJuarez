{
  "nbformat": 4,
  "nbformat_minor": 0,
  "metadata": {
    "anaconda-cloud": {},
    "kernelspec": {
      "display_name": "Python 2",
      "language": "python",
      "name": "python2"
    },
    "language_info": {
      "codemirror_mode": {
        "name": "ipython",
        "version": 2
      },
      "file_extension": ".py",
      "mimetype": "text/x-python",
      "name": "python",
      "nbconvert_exporter": "python",
      "pygments_lexer": "ipython2",
      "version": "2.7.15"
    },
    "colab": {
      "name": "02.08-Working-With-Strings.ipynb",
      "provenance": [],
      "include_colab_link": true
    }
  },
  "cells": [
    {
      "cell_type": "markdown",
      "metadata": {
        "id": "view-in-github",
        "colab_type": "text"
      },
      "source": [
        "<a href=\"https://colab.research.google.com/github/htapiagroup/oscilaciones-de-masas-acopladas-por-resortes-JosueJuarez/blob/master/02.08%20Operaciones%20sobre%20texto.ipynb\" target=\"_parent\"><img src=\"https://colab.research.google.com/assets/colab-badge.svg\" alt=\"Open In Colab\"/></a>"
      ]
    },
    {
      "cell_type": "markdown",
      "metadata": {
        "id": "r_7iLUnGD56Z",
        "colab_type": "text"
      },
      "source": [
        "# Operaciones sobre texto"
      ]
    },
    {
      "cell_type": "markdown",
      "metadata": {
        "id": "emmGZUYmD56a",
        "colab_type": "text"
      },
      "source": [
        "## Introducción a las operaciones sobre texto en Pandas"
      ]
    },
    {
      "cell_type": "code",
      "metadata": {
        "id": "pzVO4-RYD56b",
        "colab_type": "code",
        "colab": {},
        "outputId": "5d2d0c20-b8f0-4884-fddc-35f07f8f8edd"
      },
      "source": [
        "import numpy as np\n",
        "x = np.array([2, 3, 5, 7, 11, 13])\n",
        "x * 2"
      ],
      "execution_count": 0,
      "outputs": [
        {
          "output_type": "execute_result",
          "data": {
            "text/plain": [
              "array([ 4,  6, 10, 14, 22, 26])"
            ]
          },
          "metadata": {
            "tags": []
          },
          "execution_count": 1
        }
      ]
    },
    {
      "cell_type": "code",
      "metadata": {
        "id": "HUYjYW72D56h",
        "colab_type": "code",
        "colab": {},
        "outputId": "a5e8087a-db24-4955-896f-1df79253a56c"
      },
      "source": [
        "data = ['peter', 'Paul', 'MARY', 'gUIDO']\n",
        "[s.capitalize() for s in data]"
      ],
      "execution_count": 0,
      "outputs": [
        {
          "output_type": "execute_result",
          "data": {
            "text/plain": [
              "['Peter', 'Paul', 'Mary', 'Guido']"
            ]
          },
          "metadata": {
            "tags": []
          },
          "execution_count": 2
        }
      ]
    },
    {
      "cell_type": "code",
      "metadata": {
        "id": "sOmJz4EBD56m",
        "colab_type": "code",
        "colab": {},
        "outputId": "d903cba2-df8d-4b82-c4dc-62a3657527d1"
      },
      "source": [
        "data = ['peter', 'Paul', None, 'MARY', 'gUIDO']\n",
        "[s.capitalize() for s in data]"
      ],
      "execution_count": 0,
      "outputs": [
        {
          "output_type": "error",
          "ename": "AttributeError",
          "evalue": "'NoneType' object has no attribute 'capitalize'",
          "traceback": [
            "\u001b[0;31m---------------------------------------------------------------------------\u001b[0m",
            "\u001b[0;31mAttributeError\u001b[0m                            Traceback (most recent call last)",
            "\u001b[0;32m<ipython-input-3-fc1d891ab539>\u001b[0m in \u001b[0;36m<module>\u001b[0;34m()\u001b[0m\n\u001b[1;32m      1\u001b[0m \u001b[0mdata\u001b[0m \u001b[0;34m=\u001b[0m \u001b[0;34m[\u001b[0m\u001b[0;34m'peter'\u001b[0m\u001b[0;34m,\u001b[0m \u001b[0;34m'Paul'\u001b[0m\u001b[0;34m,\u001b[0m \u001b[0;32mNone\u001b[0m\u001b[0;34m,\u001b[0m \u001b[0;34m'MARY'\u001b[0m\u001b[0;34m,\u001b[0m \u001b[0;34m'gUIDO'\u001b[0m\u001b[0;34m]\u001b[0m\u001b[0;34m\u001b[0m\u001b[0m\n\u001b[0;32m----> 2\u001b[0;31m \u001b[0;34m[\u001b[0m\u001b[0ms\u001b[0m\u001b[0;34m.\u001b[0m\u001b[0mcapitalize\u001b[0m\u001b[0;34m(\u001b[0m\u001b[0;34m)\u001b[0m \u001b[0;32mfor\u001b[0m \u001b[0ms\u001b[0m \u001b[0;32min\u001b[0m \u001b[0mdata\u001b[0m\u001b[0;34m]\u001b[0m\u001b[0;34m\u001b[0m\u001b[0m\n\u001b[0m",
            "\u001b[0;32m<ipython-input-3-fc1d891ab539>\u001b[0m in \u001b[0;36m<listcomp>\u001b[0;34m(.0)\u001b[0m\n\u001b[1;32m      1\u001b[0m \u001b[0mdata\u001b[0m \u001b[0;34m=\u001b[0m \u001b[0;34m[\u001b[0m\u001b[0;34m'peter'\u001b[0m\u001b[0;34m,\u001b[0m \u001b[0;34m'Paul'\u001b[0m\u001b[0;34m,\u001b[0m \u001b[0;32mNone\u001b[0m\u001b[0;34m,\u001b[0m \u001b[0;34m'MARY'\u001b[0m\u001b[0;34m,\u001b[0m \u001b[0;34m'gUIDO'\u001b[0m\u001b[0;34m]\u001b[0m\u001b[0;34m\u001b[0m\u001b[0m\n\u001b[0;32m----> 2\u001b[0;31m \u001b[0;34m[\u001b[0m\u001b[0ms\u001b[0m\u001b[0;34m.\u001b[0m\u001b[0mcapitalize\u001b[0m\u001b[0;34m(\u001b[0m\u001b[0;34m)\u001b[0m \u001b[0;32mfor\u001b[0m \u001b[0ms\u001b[0m \u001b[0;32min\u001b[0m \u001b[0mdata\u001b[0m\u001b[0;34m]\u001b[0m\u001b[0;34m\u001b[0m\u001b[0m\n\u001b[0m",
            "\u001b[0;31mAttributeError\u001b[0m: 'NoneType' object has no attribute 'capitalize'"
          ]
        }
      ]
    },
    {
      "cell_type": "code",
      "metadata": {
        "id": "3BlfI6qBD56p",
        "colab_type": "code",
        "colab": {},
        "outputId": "18374d16-69f9-4a4a-d70b-fe1da6ec46ad"
      },
      "source": [
        "import pandas as pd\n",
        "names = pd.Series(data)\n",
        "names"
      ],
      "execution_count": 0,
      "outputs": [
        {
          "output_type": "execute_result",
          "data": {
            "text/plain": [
              "0    peter\n",
              "1     Paul\n",
              "2     None\n",
              "3     MARY\n",
              "4    gUIDO\n",
              "dtype: object"
            ]
          },
          "metadata": {
            "tags": []
          },
          "execution_count": 4
        }
      ]
    },
    {
      "cell_type": "code",
      "metadata": {
        "id": "vurTT4VUD56r",
        "colab_type": "code",
        "colab": {},
        "outputId": "58f7fba5-a93c-46f6-fbf3-f6f30f252508"
      },
      "source": [
        "names.str.capitalize()"
      ],
      "execution_count": 0,
      "outputs": [
        {
          "output_type": "execute_result",
          "data": {
            "text/plain": [
              "0    Peter\n",
              "1     Paul\n",
              "2     None\n",
              "3     Mary\n",
              "4    Guido\n",
              "dtype: object"
            ]
          },
          "metadata": {
            "tags": []
          },
          "execution_count": 5
        }
      ]
    },
    {
      "cell_type": "markdown",
      "metadata": {
        "id": "db_3IIIjD56u",
        "colab_type": "text"
      },
      "source": [
        "## Métodos para texto en Pandas"
      ]
    },
    {
      "cell_type": "code",
      "metadata": {
        "id": "Enimw3PmD56v",
        "colab_type": "code",
        "colab": {}
      },
      "source": [
        "monte = pd.Series(['Graham Chapman', 'John Cleese', 'Terry Gilliam',\n",
        "                   'Eric Idle', 'Terry Jones', 'Michael Palin'])"
      ],
      "execution_count": 0,
      "outputs": []
    },
    {
      "cell_type": "markdown",
      "metadata": {
        "id": "J5YSqe3rD56y",
        "colab_type": "text"
      },
      "source": [
        "### Métodos similares a los de Python (para texto) \n",
        "\n",
        "| Método  | <!-- -->    | <!-- -->    | <!-- -->    |\n",
        "| ------------- | ------------- | ------------- | ------------- \n",
        "``len()``    | ``lower()``      | ``translate()``  | ``islower()``     \n",
        "``ljust()``  | ``upper()``      | ``startswith()`` | ``isupper()``     \n",
        "``rjust()``  | ``find()``       | ``endswith()``   | ``isnumeric()``   \n",
        "``center()`` | ``rfind()``      | ``isalnum()``    | ``isdecimal()``   \n",
        "``zfill()``  | ``index()``      | ``isalpha()``    | ``split()``       \n",
        "``strip()``  | ``rindex()``     | ``isdigit()``    | ``rsplit()``      \n",
        "``rstrip()`` | ``capitalize()`` | ``isspace()``    | ``partition()``   \n",
        "``lstrip()`` |  ``swapcase()``  |  ``istitle()``   | ``rpartition()`` \n"
      ]
    },
    {
      "cell_type": "code",
      "metadata": {
        "id": "tY0du434D56z",
        "colab_type": "code",
        "colab": {},
        "outputId": "2f0ff2ca-8337-4f0a-dc16-335feda1cf61"
      },
      "source": [
        "monte.str.lower()"
      ],
      "execution_count": 0,
      "outputs": [
        {
          "output_type": "execute_result",
          "data": {
            "text/plain": [
              "0    graham chapman\n",
              "1       john cleese\n",
              "2     terry gilliam\n",
              "3         eric idle\n",
              "4       terry jones\n",
              "5     michael palin\n",
              "dtype: object"
            ]
          },
          "metadata": {
            "tags": []
          },
          "execution_count": 7
        }
      ]
    },
    {
      "cell_type": "code",
      "metadata": {
        "id": "xomaisHUD562",
        "colab_type": "code",
        "colab": {},
        "outputId": "11b73217-edb6-4a4c-a3e8-25f82cba49e2"
      },
      "source": [
        "monte.str.len()"
      ],
      "execution_count": 0,
      "outputs": [
        {
          "output_type": "execute_result",
          "data": {
            "text/plain": [
              "0    14\n",
              "1    11\n",
              "2    13\n",
              "3     9\n",
              "4    11\n",
              "5    13\n",
              "dtype: int64"
            ]
          },
          "metadata": {
            "tags": []
          },
          "execution_count": 8
        }
      ]
    },
    {
      "cell_type": "code",
      "metadata": {
        "id": "agseoVkUD566",
        "colab_type": "code",
        "colab": {},
        "outputId": "5c1f50f0-c775-4d29-899f-cf6387aacfca"
      },
      "source": [
        "monte.str.startswith('T')"
      ],
      "execution_count": 0,
      "outputs": [
        {
          "output_type": "execute_result",
          "data": {
            "text/plain": [
              "0    False\n",
              "1    False\n",
              "2     True\n",
              "3    False\n",
              "4     True\n",
              "5    False\n",
              "dtype: bool"
            ]
          },
          "metadata": {
            "tags": []
          },
          "execution_count": 9
        }
      ]
    },
    {
      "cell_type": "code",
      "metadata": {
        "id": "Aev567x7D56-",
        "colab_type": "code",
        "colab": {},
        "outputId": "8a678b70-5b17-4c08-af76-a2d2ec26a96b"
      },
      "source": [
        "monte.str.split()"
      ],
      "execution_count": 0,
      "outputs": [
        {
          "output_type": "execute_result",
          "data": {
            "text/plain": [
              "0    [Graham, Chapman]\n",
              "1       [John, Cleese]\n",
              "2     [Terry, Gilliam]\n",
              "3         [Eric, Idle]\n",
              "4       [Terry, Jones]\n",
              "5     [Michael, Palin]\n",
              "dtype: object"
            ]
          },
          "metadata": {
            "tags": []
          },
          "execution_count": 10
        }
      ]
    },
    {
      "cell_type": "markdown",
      "metadata": {
        "id": "_xf26HGxD57G",
        "colab_type": "text"
      },
      "source": [
        "### Métodos que usan exrpresiones regulares\n",
        "\n",
        "| Método | Descripción |\n",
        "|--------|-------------|\n",
        "| ``match()`` | Call ``re.match()`` on each element, returning a boolean. |\n",
        "| ``extract()`` | Call ``re.match()`` on each element, returning matched groups as strings.|\n",
        "| ``findall()`` | Call ``re.findall()`` on each element |\n",
        "| ``replace()`` | Replace occurrences of pattern with some other string|\n",
        "| ``contains()`` | Call ``re.search()`` on each element, returning a boolean |\n",
        "| ``count()`` | Count occurrences of pattern|\n",
        "| ``split()``   | Equivalent to ``str.split()``, but accepts regexps |\n",
        "| ``rsplit()`` | Equivalent to ``str.rsplit()``, but accepts regexps |"
      ]
    },
    {
      "cell_type": "code",
      "metadata": {
        "id": "oRQIHA6ED57H",
        "colab_type": "code",
        "colab": {},
        "outputId": "5dcbef8d-f1fa-46a5-a1cf-1779b6d3290c"
      },
      "source": [
        "monte.str.extract('([A-Za-z]+)', expand=False)"
      ],
      "execution_count": 0,
      "outputs": [
        {
          "output_type": "execute_result",
          "data": {
            "text/plain": [
              "0     Graham\n",
              "1       John\n",
              "2      Terry\n",
              "3       Eric\n",
              "4      Terry\n",
              "5    Michael\n",
              "dtype: object"
            ]
          },
          "metadata": {
            "tags": []
          },
          "execution_count": 11
        }
      ]
    },
    {
      "cell_type": "code",
      "metadata": {
        "id": "_U3lBJyyD57K",
        "colab_type": "code",
        "colab": {},
        "outputId": "7dfab8fd-3fb2-484d-ab6e-1bef2d46e826"
      },
      "source": [
        "monte.str.findall(r'^[^AEIOU].*[^aeiou]$')"
      ],
      "execution_count": 0,
      "outputs": [
        {
          "output_type": "execute_result",
          "data": {
            "text/plain": [
              "0    [Graham Chapman]\n",
              "1                  []\n",
              "2     [Terry Gilliam]\n",
              "3                  []\n",
              "4       [Terry Jones]\n",
              "5     [Michael Palin]\n",
              "dtype: object"
            ]
          },
          "metadata": {
            "tags": []
          },
          "execution_count": 12
        }
      ]
    },
    {
      "cell_type": "markdown",
      "metadata": {
        "id": "3BeqGUS9D57N",
        "colab_type": "text"
      },
      "source": [
        "### Métodos varios\n",
        "\n",
        "\n",
        "| Método | Descripción |\n",
        "|--------|-------------|\n",
        "| ``get()`` | Index each element |\n",
        "| ``slice()`` | Slice each element|\n",
        "| ``slice_replace()`` | Replace slice in each element with passed value|\n",
        "| ``cat()``      | Concatenate strings|\n",
        "| ``repeat()`` | Repeat values |\n",
        "| ``normalize()`` | Return Unicode form of string |\n",
        "| ``pad()`` | Add whitespace to left, right, or both sides of strings|\n",
        "| ``wrap()`` | Split long strings into lines with length less than a given width|\n",
        "| ``join()`` | Join strings in each element of the Series with passed separator|\n",
        "| ``get_dummies()`` | extract dummy variables as a dataframe |"
      ]
    },
    {
      "cell_type": "markdown",
      "metadata": {
        "id": "p6xKJp_MD57O",
        "colab_type": "text"
      },
      "source": [
        "#### Acceso vectorizado a elementos y rebanadas de texto"
      ]
    },
    {
      "cell_type": "code",
      "metadata": {
        "id": "8NgOT2SRD57P",
        "colab_type": "code",
        "colab": {},
        "outputId": "06b43eaf-59a5-43d2-9ae1-c92ebef06cfe"
      },
      "source": [
        "monte.str[0:3]"
      ],
      "execution_count": 0,
      "outputs": [
        {
          "output_type": "execute_result",
          "data": {
            "text/plain": [
              "0    Gra\n",
              "1    Joh\n",
              "2    Ter\n",
              "3    Eri\n",
              "4    Ter\n",
              "5    Mic\n",
              "dtype: object"
            ]
          },
          "metadata": {
            "tags": []
          },
          "execution_count": 13
        }
      ]
    },
    {
      "cell_type": "code",
      "metadata": {
        "id": "fakAN8zsD57S",
        "colab_type": "code",
        "colab": {},
        "outputId": "447ba945-c33a-417f-c16c-182b8fdbd518"
      },
      "source": [
        "monte.str.split().str.get(-1)"
      ],
      "execution_count": 0,
      "outputs": [
        {
          "output_type": "execute_result",
          "data": {
            "text/plain": [
              "0    Chapman\n",
              "1     Cleese\n",
              "2    Gilliam\n",
              "3       Idle\n",
              "4      Jones\n",
              "5      Palin\n",
              "dtype: object"
            ]
          },
          "metadata": {
            "tags": []
          },
          "execution_count": 14
        }
      ]
    },
    {
      "cell_type": "markdown",
      "metadata": {
        "id": "QIYvqOaED57V",
        "colab_type": "text"
      },
      "source": [
        "#### Variables de indicación"
      ]
    },
    {
      "cell_type": "code",
      "metadata": {
        "id": "mO1q2DKjD57V",
        "colab_type": "code",
        "colab": {},
        "outputId": "bfa2fd08-977f-48c5-ce43-c6594eb15cad"
      },
      "source": [
        "full_monte = pd.DataFrame({'name': monte,\n",
        "                           'info': ['B|C|D', 'B|D', 'A|C',\n",
        "                                    'B|D', 'B|C', 'B|C|D']})\n",
        "full_monte"
      ],
      "execution_count": 0,
      "outputs": [
        {
          "output_type": "execute_result",
          "data": {
            "text/html": [
              "<div>\n",
              "<table border=\"1\" class=\"dataframe\">\n",
              "  <thead>\n",
              "    <tr style=\"text-align: right;\">\n",
              "      <th></th>\n",
              "      <th>info</th>\n",
              "      <th>name</th>\n",
              "    </tr>\n",
              "  </thead>\n",
              "  <tbody>\n",
              "    <tr>\n",
              "      <th>0</th>\n",
              "      <td>B|C|D</td>\n",
              "      <td>Graham Chapman</td>\n",
              "    </tr>\n",
              "    <tr>\n",
              "      <th>1</th>\n",
              "      <td>B|D</td>\n",
              "      <td>John Cleese</td>\n",
              "    </tr>\n",
              "    <tr>\n",
              "      <th>2</th>\n",
              "      <td>A|C</td>\n",
              "      <td>Terry Gilliam</td>\n",
              "    </tr>\n",
              "    <tr>\n",
              "      <th>3</th>\n",
              "      <td>B|D</td>\n",
              "      <td>Eric Idle</td>\n",
              "    </tr>\n",
              "    <tr>\n",
              "      <th>4</th>\n",
              "      <td>B|C</td>\n",
              "      <td>Terry Jones</td>\n",
              "    </tr>\n",
              "    <tr>\n",
              "      <th>5</th>\n",
              "      <td>B|C|D</td>\n",
              "      <td>Michael Palin</td>\n",
              "    </tr>\n",
              "  </tbody>\n",
              "</table>\n",
              "</div>"
            ],
            "text/plain": [
              "    info            name\n",
              "0  B|C|D  Graham Chapman\n",
              "1    B|D     John Cleese\n",
              "2    A|C   Terry Gilliam\n",
              "3    B|D       Eric Idle\n",
              "4    B|C     Terry Jones\n",
              "5  B|C|D   Michael Palin"
            ]
          },
          "metadata": {
            "tags": []
          },
          "execution_count": 15
        }
      ]
    },
    {
      "cell_type": "code",
      "metadata": {
        "id": "nTVtptKyD57X",
        "colab_type": "code",
        "colab": {},
        "outputId": "c615a62c-0721-43bf-861f-bf9772f5bfc4"
      },
      "source": [
        "full_monte['info'].str.get_dummies('|')"
      ],
      "execution_count": 0,
      "outputs": [
        {
          "output_type": "execute_result",
          "data": {
            "text/html": [
              "<div>\n",
              "<table border=\"1\" class=\"dataframe\">\n",
              "  <thead>\n",
              "    <tr style=\"text-align: right;\">\n",
              "      <th></th>\n",
              "      <th>A</th>\n",
              "      <th>B</th>\n",
              "      <th>C</th>\n",
              "      <th>D</th>\n",
              "    </tr>\n",
              "  </thead>\n",
              "  <tbody>\n",
              "    <tr>\n",
              "      <th>0</th>\n",
              "      <td>0</td>\n",
              "      <td>1</td>\n",
              "      <td>1</td>\n",
              "      <td>1</td>\n",
              "    </tr>\n",
              "    <tr>\n",
              "      <th>1</th>\n",
              "      <td>0</td>\n",
              "      <td>1</td>\n",
              "      <td>0</td>\n",
              "      <td>1</td>\n",
              "    </tr>\n",
              "    <tr>\n",
              "      <th>2</th>\n",
              "      <td>1</td>\n",
              "      <td>0</td>\n",
              "      <td>1</td>\n",
              "      <td>0</td>\n",
              "    </tr>\n",
              "    <tr>\n",
              "      <th>3</th>\n",
              "      <td>0</td>\n",
              "      <td>1</td>\n",
              "      <td>0</td>\n",
              "      <td>1</td>\n",
              "    </tr>\n",
              "    <tr>\n",
              "      <th>4</th>\n",
              "      <td>0</td>\n",
              "      <td>1</td>\n",
              "      <td>1</td>\n",
              "      <td>0</td>\n",
              "    </tr>\n",
              "    <tr>\n",
              "      <th>5</th>\n",
              "      <td>0</td>\n",
              "      <td>1</td>\n",
              "      <td>1</td>\n",
              "      <td>1</td>\n",
              "    </tr>\n",
              "  </tbody>\n",
              "</table>\n",
              "</div>"
            ],
            "text/plain": [
              "   A  B  C  D\n",
              "0  0  1  1  1\n",
              "1  0  1  0  1\n",
              "2  1  0  1  0\n",
              "3  0  1  0  1\n",
              "4  0  1  1  0\n",
              "5  0  1  1  1"
            ]
          },
          "metadata": {
            "tags": []
          },
          "execution_count": 16
        }
      ]
    },
    {
      "cell_type": "markdown",
      "metadata": {
        "id": "6lHmoEJSD57Z",
        "colab_type": "text"
      },
      "source": [
        "## Ejemplo: Base de datos de recetas"
      ]
    },
    {
      "cell_type": "code",
      "metadata": {
        "id": "ZyeesVxqD57a",
        "colab_type": "code",
        "colab": {}
      },
      "source": [
        "# !curl -O http://openrecipes.s3.amazonaws.com/recipeitems-latest.json.gz\n",
        "# !gunzip recipeitems-latest.json.gz"
      ],
      "execution_count": 0,
      "outputs": []
    },
    {
      "cell_type": "code",
      "metadata": {
        "id": "7xPOWWOXD57f",
        "colab_type": "code",
        "colab": {},
        "outputId": "42bf81f3-fdbc-4121-87d1-a9d234ef5f76"
      },
      "source": [
        "try:\n",
        "    recipes = pd.read_json('recipeitems-latest.json')\n",
        "except ValueError as e:\n",
        "    print(\"ValueError:\", e)"
      ],
      "execution_count": 0,
      "outputs": [
        {
          "output_type": "stream",
          "text": [
            "ValueError: Trailing data\n"
          ],
          "name": "stdout"
        }
      ]
    },
    {
      "cell_type": "code",
      "metadata": {
        "id": "PHyrawFMD57m",
        "colab_type": "code",
        "colab": {},
        "outputId": "6417f1c8-ab5f-4a16-e2d8-f0f12cc0182c"
      },
      "source": [
        "with open('recipeitems-latest.json') as f:\n",
        "    line = f.readline()\n",
        "pd.read_json(line).shape"
      ],
      "execution_count": 0,
      "outputs": [
        {
          "output_type": "execute_result",
          "data": {
            "text/plain": [
              "(2, 12)"
            ]
          },
          "metadata": {
            "tags": []
          },
          "execution_count": 19
        }
      ]
    },
    {
      "cell_type": "code",
      "metadata": {
        "id": "C1KmwLSzD57p",
        "colab_type": "code",
        "colab": {}
      },
      "source": [
        "# read the entire file into a Python array\n",
        "with open('recipeitems-latest.json', 'r') as f:\n",
        "    # Extract each line\n",
        "    data = (line.strip() for line in f)\n",
        "    # Reformat so each line is the element of a list\n",
        "    data_json = \"[{0}]\".format(','.join(data))\n",
        "# read the result as a JSON\n",
        "recipes = pd.read_json(data_json)"
      ],
      "execution_count": 0,
      "outputs": []
    },
    {
      "cell_type": "code",
      "metadata": {
        "id": "sNQb3duoD57w",
        "colab_type": "code",
        "colab": {},
        "outputId": "ced3f61d-9b3b-43f0-c2cd-12c8b92d2c53"
      },
      "source": [
        "recipes.shape"
      ],
      "execution_count": 0,
      "outputs": [
        {
          "output_type": "execute_result",
          "data": {
            "text/plain": [
              "(173278, 17)"
            ]
          },
          "metadata": {
            "tags": []
          },
          "execution_count": 21
        }
      ]
    },
    {
      "cell_type": "code",
      "metadata": {
        "id": "1tVik5UpD57z",
        "colab_type": "code",
        "colab": {},
        "outputId": "0234d356-a1f9-407c-a964-11f5ac32ddee"
      },
      "source": [
        "recipes.iloc[0]"
      ],
      "execution_count": 0,
      "outputs": [
        {
          "output_type": "execute_result",
          "data": {
            "text/plain": [
              "_id                                {'$oid': '5160756b96cc62079cc2db15'}\n",
              "cookTime                                                          PT30M\n",
              "creator                                                             NaN\n",
              "dateModified                                                        NaN\n",
              "datePublished                                                2013-03-11\n",
              "description           Late Saturday afternoon, after Marlboro Man ha...\n",
              "image                 http://static.thepioneerwoman.com/cooking/file...\n",
              "ingredients           Biscuits\\n3 cups All-purpose Flour\\n2 Tablespo...\n",
              "name                                    Drop Biscuits and Sausage Gravy\n",
              "prepTime                                                          PT10M\n",
              "recipeCategory                                                      NaN\n",
              "recipeInstructions                                                  NaN\n",
              "recipeYield                                                          12\n",
              "source                                                  thepioneerwoman\n",
              "totalTime                                                           NaN\n",
              "ts                                             {'$date': 1365276011104}\n",
              "url                   http://thepioneerwoman.com/cooking/2013/03/dro...\n",
              "Name: 0, dtype: object"
            ]
          },
          "metadata": {
            "tags": []
          },
          "execution_count": 22
        }
      ]
    },
    {
      "cell_type": "code",
      "metadata": {
        "id": "roBIKEahD571",
        "colab_type": "code",
        "colab": {},
        "outputId": "fbe18029-4dbc-459f-9107-99fd41804a11"
      },
      "source": [
        "recipes.ingredients.str.len().describe()"
      ],
      "execution_count": 0,
      "outputs": [
        {
          "output_type": "execute_result",
          "data": {
            "text/plain": [
              "count    173278.000000\n",
              "mean        244.617926\n",
              "std         146.705285\n",
              "min           0.000000\n",
              "25%         147.000000\n",
              "50%         221.000000\n",
              "75%         314.000000\n",
              "max        9067.000000\n",
              "Name: ingredients, dtype: float64"
            ]
          },
          "metadata": {
            "tags": []
          },
          "execution_count": 23
        }
      ]
    },
    {
      "cell_type": "code",
      "metadata": {
        "id": "VSYNXlQeD573",
        "colab_type": "code",
        "colab": {},
        "outputId": "2b5f48fb-0de5-413d-d1db-9b671edc5a4f"
      },
      "source": [
        "recipes.name[np.argmax(recipes.ingredients.str.len())]"
      ],
      "execution_count": 0,
      "outputs": [
        {
          "output_type": "execute_result",
          "data": {
            "text/plain": [
              "'Carrot Pineapple Spice &amp; Brownie Layer Cake with Whipped Cream &amp; Cream Cheese Frosting and Marzipan Carrots'"
            ]
          },
          "metadata": {
            "tags": []
          },
          "execution_count": 24
        }
      ]
    },
    {
      "cell_type": "code",
      "metadata": {
        "id": "wr1NSHixD576",
        "colab_type": "code",
        "colab": {},
        "outputId": "fb002aae-c484-46ce-8808-0598361f9e9f"
      },
      "source": [
        "recipes.description.str.contains('[Bb]reakfast').sum()"
      ],
      "execution_count": 0,
      "outputs": [
        {
          "output_type": "execute_result",
          "data": {
            "text/plain": [
              "3524"
            ]
          },
          "metadata": {
            "tags": []
          },
          "execution_count": 25
        }
      ]
    },
    {
      "cell_type": "code",
      "metadata": {
        "id": "1YgyBk-iD578",
        "colab_type": "code",
        "colab": {},
        "outputId": "ea9505b8-54fa-4d71-b70b-7c6fd076bc22"
      },
      "source": [
        "recipes.ingredients.str.contains('[Cc]innamon').sum()"
      ],
      "execution_count": 0,
      "outputs": [
        {
          "output_type": "execute_result",
          "data": {
            "text/plain": [
              "10526"
            ]
          },
          "metadata": {
            "tags": []
          },
          "execution_count": 26
        }
      ]
    },
    {
      "cell_type": "code",
      "metadata": {
        "id": "p6C3YLwsD57-",
        "colab_type": "code",
        "colab": {},
        "outputId": "9d6a0dda-ac9a-4649-8c76-2d14c959157e"
      },
      "source": [
        "recipes.ingredients.str.contains('[Cc]inamon').sum()"
      ],
      "execution_count": 0,
      "outputs": [
        {
          "output_type": "execute_result",
          "data": {
            "text/plain": [
              "11"
            ]
          },
          "metadata": {
            "tags": []
          },
          "execution_count": 27
        }
      ]
    },
    {
      "cell_type": "markdown",
      "metadata": {
        "id": "cdYLsccXD58B",
        "colab_type": "text"
      },
      "source": [
        "### Un sistema de recomendación de recetas"
      ]
    },
    {
      "cell_type": "code",
      "metadata": {
        "id": "KL-c28BjD58B",
        "colab_type": "code",
        "colab": {}
      },
      "source": [
        "spice_list = ['salt', 'pepper', 'oregano', 'sage', 'parsley',\n",
        "              'rosemary', 'tarragon', 'thyme', 'paprika', 'cumin']"
      ],
      "execution_count": 0,
      "outputs": []
    },
    {
      "cell_type": "code",
      "metadata": {
        "id": "ItZfy3-dD58F",
        "colab_type": "code",
        "colab": {},
        "outputId": "c0310108-6024-416c-8c25-bc419bcc2f97"
      },
      "source": [
        "import re\n",
        "spice_df = pd.DataFrame(dict((spice, recipes.ingredients.str.contains(spice, re.IGNORECASE))\n",
        "                             for spice in spice_list))\n",
        "spice_df.head()"
      ],
      "execution_count": 0,
      "outputs": [
        {
          "output_type": "execute_result",
          "data": {
            "text/html": [
              "<div>\n",
              "<table border=\"1\" class=\"dataframe\">\n",
              "  <thead>\n",
              "    <tr style=\"text-align: right;\">\n",
              "      <th></th>\n",
              "      <th>cumin</th>\n",
              "      <th>oregano</th>\n",
              "      <th>paprika</th>\n",
              "      <th>parsley</th>\n",
              "      <th>pepper</th>\n",
              "      <th>rosemary</th>\n",
              "      <th>sage</th>\n",
              "      <th>salt</th>\n",
              "      <th>tarragon</th>\n",
              "      <th>thyme</th>\n",
              "    </tr>\n",
              "  </thead>\n",
              "  <tbody>\n",
              "    <tr>\n",
              "      <th>0</th>\n",
              "      <td>False</td>\n",
              "      <td>False</td>\n",
              "      <td>False</td>\n",
              "      <td>False</td>\n",
              "      <td>False</td>\n",
              "      <td>False</td>\n",
              "      <td>True</td>\n",
              "      <td>False</td>\n",
              "      <td>False</td>\n",
              "      <td>False</td>\n",
              "    </tr>\n",
              "    <tr>\n",
              "      <th>1</th>\n",
              "      <td>False</td>\n",
              "      <td>False</td>\n",
              "      <td>False</td>\n",
              "      <td>False</td>\n",
              "      <td>False</td>\n",
              "      <td>False</td>\n",
              "      <td>False</td>\n",
              "      <td>False</td>\n",
              "      <td>False</td>\n",
              "      <td>False</td>\n",
              "    </tr>\n",
              "    <tr>\n",
              "      <th>2</th>\n",
              "      <td>True</td>\n",
              "      <td>False</td>\n",
              "      <td>False</td>\n",
              "      <td>False</td>\n",
              "      <td>True</td>\n",
              "      <td>False</td>\n",
              "      <td>False</td>\n",
              "      <td>True</td>\n",
              "      <td>False</td>\n",
              "      <td>False</td>\n",
              "    </tr>\n",
              "    <tr>\n",
              "      <th>3</th>\n",
              "      <td>False</td>\n",
              "      <td>False</td>\n",
              "      <td>False</td>\n",
              "      <td>False</td>\n",
              "      <td>False</td>\n",
              "      <td>False</td>\n",
              "      <td>False</td>\n",
              "      <td>False</td>\n",
              "      <td>False</td>\n",
              "      <td>False</td>\n",
              "    </tr>\n",
              "    <tr>\n",
              "      <th>4</th>\n",
              "      <td>False</td>\n",
              "      <td>False</td>\n",
              "      <td>False</td>\n",
              "      <td>False</td>\n",
              "      <td>False</td>\n",
              "      <td>False</td>\n",
              "      <td>False</td>\n",
              "      <td>False</td>\n",
              "      <td>False</td>\n",
              "      <td>False</td>\n",
              "    </tr>\n",
              "  </tbody>\n",
              "</table>\n",
              "</div>"
            ],
            "text/plain": [
              "   cumin oregano paprika parsley pepper rosemary   sage   salt tarragon  thyme\n",
              "0  False   False   False   False  False    False   True  False    False  False\n",
              "1  False   False   False   False  False    False  False  False    False  False\n",
              "2   True   False   False   False   True    False  False   True    False  False\n",
              "3  False   False   False   False  False    False  False  False    False  False\n",
              "4  False   False   False   False  False    False  False  False    False  False"
            ]
          },
          "metadata": {
            "tags": []
          },
          "execution_count": 29
        }
      ]
    },
    {
      "cell_type": "code",
      "metadata": {
        "id": "G9KihAfUD58I",
        "colab_type": "code",
        "colab": {},
        "outputId": "c7065ddd-87b5-4357-bfc2-030f0b630789"
      },
      "source": [
        "selection = spice_df.query('parsley & paprika & tarragon')\n",
        "len(selection)"
      ],
      "execution_count": 0,
      "outputs": [
        {
          "output_type": "execute_result",
          "data": {
            "text/plain": [
              "10"
            ]
          },
          "metadata": {
            "tags": []
          },
          "execution_count": 30
        }
      ]
    },
    {
      "cell_type": "code",
      "metadata": {
        "id": "3Dt22uESD58K",
        "colab_type": "code",
        "colab": {},
        "outputId": "ae929873-1996-4dfb-9a6d-489f94206489"
      },
      "source": [
        "recipes.name[selection.index]"
      ],
      "execution_count": 0,
      "outputs": [
        {
          "output_type": "execute_result",
          "data": {
            "text/plain": [
              "2069      All cremat with a Little Gem, dandelion and wa...\n",
              "74964                         Lobster with Thermidor butter\n",
              "93768      Burton's Southern Fried Chicken with White Gravy\n",
              "113926                     Mijo's Slow Cooker Shredded Beef\n",
              "137686                     Asparagus Soup with Poached Eggs\n",
              "140530                                 Fried Oyster Po’boys\n",
              "158475                Lamb shank tagine with herb tabbouleh\n",
              "158486                 Southern fried chicken in buttermilk\n",
              "163175            Fried Chicken Sliders with Pickles + Slaw\n",
              "165243                        Bar Tartine Cauliflower Salad\n",
              "Name: name, dtype: object"
            ]
          },
          "metadata": {
            "tags": []
          },
          "execution_count": 31
        }
      ]
    }
  ]
}